{
 "cells": [
  {
   "cell_type": "code",
   "execution_count": 21,
   "metadata": {},
   "outputs": [],
   "source": [
    "import pandas as np"
   ]
  },
  {
   "cell_type": "code",
   "execution_count": 22,
   "metadata": {},
   "outputs": [],
   "source": [
    "df = np.read_csv(\"education.csv\")\n",
    "df1 = np.read_csv('educnorma.csv',index_col=0)"
   ]
  },
  {
   "cell_type": "code",
   "execution_count": 23,
   "metadata": {},
   "outputs": [
    {
     "data": {
      "text/html": [
       "<div>\n",
       "<style scoped>\n",
       "    .dataframe tbody tr th:only-of-type {\n",
       "        vertical-align: middle;\n",
       "    }\n",
       "\n",
       "    .dataframe tbody tr th {\n",
       "        vertical-align: top;\n",
       "    }\n",
       "\n",
       "    .dataframe thead th {\n",
       "        text-align: right;\n",
       "    }\n",
       "</style>\n",
       "<table border=\"1\" class=\"dataframe\">\n",
       "  <thead>\n",
       "    <tr style=\"text-align: right;\">\n",
       "      <th></th>\n",
       "      <th>Gender</th>\n",
       "      <th>Home Location</th>\n",
       "      <th>Level of Education</th>\n",
       "      <th>Age(Years)</th>\n",
       "      <th>Number of Subjects</th>\n",
       "      <th>Device type used to attend classes</th>\n",
       "      <th>Economic status</th>\n",
       "      <th>Family size</th>\n",
       "      <th>Internet facility in your locality</th>\n",
       "      <th>Are you involved in any sports?</th>\n",
       "      <th>...</th>\n",
       "      <th>Time spent on social media (Hours)</th>\n",
       "      <th>Interested in Gaming?</th>\n",
       "      <th>Have separate room for studying?</th>\n",
       "      <th>Engaged in group studies?</th>\n",
       "      <th>Average marks scored before pandemic in traditional classroom</th>\n",
       "      <th>Your interaction in online mode</th>\n",
       "      <th>Clearing doubts with faculties in online mode</th>\n",
       "      <th>Interested in?</th>\n",
       "      <th>Performance in online</th>\n",
       "      <th>Your level of satisfaction in Online Education</th>\n",
       "    </tr>\n",
       "  </thead>\n",
       "  <tbody>\n",
       "    <tr>\n",
       "      <th>1028</th>\n",
       "      <td>Female</td>\n",
       "      <td>Rural</td>\n",
       "      <td>Under Graduate</td>\n",
       "      <td>19</td>\n",
       "      <td>3</td>\n",
       "      <td>Mobile</td>\n",
       "      <td>Middle Class</td>\n",
       "      <td>6</td>\n",
       "      <td>5</td>\n",
       "      <td>Yes</td>\n",
       "      <td>...</td>\n",
       "      <td>4</td>\n",
       "      <td>Yes</td>\n",
       "      <td>Yes</td>\n",
       "      <td>yes</td>\n",
       "      <td>91-100</td>\n",
       "      <td>4</td>\n",
       "      <td>4</td>\n",
       "      <td>Theory</td>\n",
       "      <td>8</td>\n",
       "      <td>Average</td>\n",
       "    </tr>\n",
       "    <tr>\n",
       "      <th>1029</th>\n",
       "      <td>Female</td>\n",
       "      <td>Rural</td>\n",
       "      <td>Under Graduate</td>\n",
       "      <td>20</td>\n",
       "      <td>6</td>\n",
       "      <td>Desktop</td>\n",
       "      <td>Middle Class</td>\n",
       "      <td>3</td>\n",
       "      <td>1</td>\n",
       "      <td>No</td>\n",
       "      <td>...</td>\n",
       "      <td>2</td>\n",
       "      <td>Yes</td>\n",
       "      <td>Yes</td>\n",
       "      <td>No</td>\n",
       "      <td>71-80</td>\n",
       "      <td>5</td>\n",
       "      <td>5</td>\n",
       "      <td>Theory</td>\n",
       "      <td>10</td>\n",
       "      <td>Average</td>\n",
       "    </tr>\n",
       "    <tr>\n",
       "      <th>1030</th>\n",
       "      <td>Female</td>\n",
       "      <td>Rural</td>\n",
       "      <td>Under Graduate</td>\n",
       "      <td>20</td>\n",
       "      <td>3</td>\n",
       "      <td>Mobile</td>\n",
       "      <td>Middle Class</td>\n",
       "      <td>3</td>\n",
       "      <td>2</td>\n",
       "      <td>No</td>\n",
       "      <td>...</td>\n",
       "      <td>3</td>\n",
       "      <td>No</td>\n",
       "      <td>Yes</td>\n",
       "      <td>yes</td>\n",
       "      <td>71-80</td>\n",
       "      <td>2</td>\n",
       "      <td>2</td>\n",
       "      <td>Theory</td>\n",
       "      <td>6</td>\n",
       "      <td>Average</td>\n",
       "    </tr>\n",
       "    <tr>\n",
       "      <th>1031</th>\n",
       "      <td>Female</td>\n",
       "      <td>Rural</td>\n",
       "      <td>Under Graduate</td>\n",
       "      <td>19</td>\n",
       "      <td>6</td>\n",
       "      <td>Mobile</td>\n",
       "      <td>Middle Class</td>\n",
       "      <td>2</td>\n",
       "      <td>3</td>\n",
       "      <td>Yes</td>\n",
       "      <td>...</td>\n",
       "      <td>2</td>\n",
       "      <td>Yes</td>\n",
       "      <td>No</td>\n",
       "      <td>No</td>\n",
       "      <td>61-70</td>\n",
       "      <td>3</td>\n",
       "      <td>3</td>\n",
       "      <td>Both</td>\n",
       "      <td>6</td>\n",
       "      <td>Good</td>\n",
       "    </tr>\n",
       "    <tr>\n",
       "      <th>1032</th>\n",
       "      <td>Female</td>\n",
       "      <td>Urban</td>\n",
       "      <td>Under Graduate</td>\n",
       "      <td>20</td>\n",
       "      <td>6</td>\n",
       "      <td>Laptop</td>\n",
       "      <td>Middle Class</td>\n",
       "      <td>4</td>\n",
       "      <td>3</td>\n",
       "      <td>No</td>\n",
       "      <td>...</td>\n",
       "      <td>1</td>\n",
       "      <td>Yes</td>\n",
       "      <td>Yes</td>\n",
       "      <td>yes</td>\n",
       "      <td>81-90</td>\n",
       "      <td>5</td>\n",
       "      <td>4</td>\n",
       "      <td>Practical</td>\n",
       "      <td>10</td>\n",
       "      <td>Average</td>\n",
       "    </tr>\n",
       "  </tbody>\n",
       "</table>\n",
       "<p>5 rows × 23 columns</p>\n",
       "</div>"
      ],
      "text/plain": [
       "      Gender Home Location Level of Education  Age(Years)  Number of Subjects  \\\n",
       "1028  Female         Rural     Under Graduate          19                   3   \n",
       "1029  Female         Rural     Under Graduate          20                   6   \n",
       "1030  Female         Rural     Under Graduate          20                   3   \n",
       "1031  Female         Rural     Under Graduate          19                   6   \n",
       "1032  Female         Urban     Under Graduate          20                   6   \n",
       "\n",
       "     Device type used to attend classes Economic status  Family size  \\\n",
       "1028                             Mobile    Middle Class            6   \n",
       "1029                            Desktop    Middle Class            3   \n",
       "1030                             Mobile    Middle Class            3   \n",
       "1031                             Mobile    Middle Class            2   \n",
       "1032                             Laptop    Middle Class            4   \n",
       "\n",
       "      Internet facility in your locality Are you involved in any sports?  ...  \\\n",
       "1028                                   5                             Yes  ...   \n",
       "1029                                   1                              No  ...   \n",
       "1030                                   2                              No  ...   \n",
       "1031                                   3                             Yes  ...   \n",
       "1032                                   3                              No  ...   \n",
       "\n",
       "     Time spent on social media (Hours)  Interested in Gaming?  \\\n",
       "1028                                  4                    Yes   \n",
       "1029                                  2                    Yes   \n",
       "1030                                  3                     No   \n",
       "1031                                  2                    Yes   \n",
       "1032                                  1                    Yes   \n",
       "\n",
       "      Have separate room for studying?  Engaged in group studies?  \\\n",
       "1028                               Yes                        yes   \n",
       "1029                               Yes                         No   \n",
       "1030                               Yes                        yes   \n",
       "1031                                No                         No   \n",
       "1032                               Yes                        yes   \n",
       "\n",
       "     Average marks scored before pandemic in traditional classroom  \\\n",
       "1028                                             91-100              \n",
       "1029                                              71-80              \n",
       "1030                                              71-80              \n",
       "1031                                              61-70              \n",
       "1032                                              81-90              \n",
       "\n",
       "     Your interaction in online mode  \\\n",
       "1028                               4   \n",
       "1029                               5   \n",
       "1030                               2   \n",
       "1031                               3   \n",
       "1032                               5   \n",
       "\n",
       "     Clearing doubts with faculties in online mode Interested in?  \\\n",
       "1028                                             4         Theory   \n",
       "1029                                             5         Theory   \n",
       "1030                                             2         Theory   \n",
       "1031                                             3           Both   \n",
       "1032                                             4      Practical   \n",
       "\n",
       "      Performance in online  Your level of satisfaction in Online Education  \n",
       "1028                      8                                         Average  \n",
       "1029                     10                                         Average  \n",
       "1030                      6                                         Average  \n",
       "1031                      6                                            Good  \n",
       "1032                     10                                         Average  \n",
       "\n",
       "[5 rows x 23 columns]"
      ]
     },
     "execution_count": 23,
     "metadata": {},
     "output_type": "execute_result"
    }
   ],
   "source": [
    "df.tail()"
   ]
  },
  {
   "cell_type": "code",
   "execution_count": 24,
   "metadata": {},
   "outputs": [
    {
     "name": "stdout",
     "output_type": "stream",
     "text": [
      "<class 'pandas.core.frame.DataFrame'>\n",
      "RangeIndex: 1033 entries, 0 to 1032\n",
      "Data columns (total 23 columns):\n",
      " #   Column               Non-Null Count  Dtype \n",
      "---  ------               --------------  ----- \n",
      " 0   Gender               1033 non-null   object\n",
      " 1   Home_location        1033 non-null   object\n",
      " 2   Education            1033 non-null   object\n",
      " 3   Age                  1033 non-null   int64 \n",
      " 4   nb_subjets           1033 non-null   int64 \n",
      " 5   Device_used          1033 non-null   object\n",
      " 6   Economic_status      1033 non-null   object\n",
      " 7   Family_size          1033 non-null   int64 \n",
      " 8   Internet             1033 non-null   int64 \n",
      " 9   Sport                1033 non-null   object\n",
      " 10  Monitoring           1033 non-null   object\n",
      " 11  Study                1033 non-null   int64 \n",
      " 12  Sleep                1033 non-null   int64 \n",
      " 13  Media                1033 non-null   int64 \n",
      " 14  Gaming               1033 non-null   object\n",
      " 15  separate_room        1033 non-null   object\n",
      " 16  group_study          1033 non-null   object\n",
      " 17  Note_avant           1033 non-null   object\n",
      " 18  Online_mode          1033 non-null   int64 \n",
      " 19  doubts_online        1033 non-null   int64 \n",
      " 20  interest             1033 non-null   object\n",
      " 21  performance_online   1033 non-null   int64 \n",
      " 22  Satisfaction_online  1033 non-null   object\n",
      "dtypes: int64(10), object(13)\n",
      "memory usage: 185.7+ KB\n"
     ]
    }
   ],
   "source": [
    "df = df.rename(columns={'Age(Years)' : 'Age', 'Home Location' : 'Home_location', 'Level of Education' : 'Education',\n",
    "                       'Number of Subjects' : 'nb_subjets', 'Device type used to attend classes' : 'Device_used', \n",
    "                       'Economic status' : 'Economic_status', 'Family size' : 'Family_size', \n",
    "                        'Internet facility in your locality' : 'Internet',\n",
    "                       'Are you involved in any sports?' : 'Sport', 'Do elderly people monitor you?' : 'Monitoring',\n",
    "                       'Study time (Hours)' : 'Study', 'Sleep time (Hours)' : 'Sleep',\n",
    "                       'Time spent on social media (Hours)' : 'Media', 'Interested in Gaming?' : 'Gaming',\n",
    "                       'Have separate room for studying?' : 'separate_room', 'Engaged in group studies?' : 'group_study',\n",
    "                       'Average marks scored before pandemic in traditional classroom' : 'Note_avant',\n",
    "                       'Your interaction in online mode' : 'Online_mode', \n",
    "                        'Clearing doubts with faculties in online mode' : 'doubts_online', 'Interested in?' : 'interest',\n",
    "                       'Performance in online' : 'performance_online', \n",
    "                        'Your level of satisfaction in Online Education' : 'Satisfaction_online'})\n",
    "df.info()"
   ]
  },
  {
   "cell_type": "code",
   "execution_count": 25,
   "metadata": {},
   "outputs": [
    {
     "data": {
      "text/plain": [
       "<AxesSubplot:title={'center':'repartition des genres'}>"
      ]
     },
     "execution_count": 25,
     "metadata": {},
     "output_type": "execute_result"
    },
    {
     "data": {
      "image/png": "[encoded data removed]",
      "text/plain": [
       "<Figure size 432x288 with 1 Axes>"
      ]
     },
     "metadata": {
      "needs_background": "light"
     },
     "output_type": "display_data"
    }
   ],
   "source": [
    "sexe = df.Gender.value_counts(normalize=True).sort_index(ascending=True).plot(kind='bar',\n",
    "                                                                                     title = 'repartition des genres', color = 'red')\n",
    "sexe"
   ]
  },
  {
   "cell_type": "code",
   "execution_count": 26,
   "metadata": {},
   "outputs": [
    {
     "data": {
      "text/plain": [
       "<AxesSubplot:title={'center':'repartition des ages'}>"
      ]
     },
     "execution_count": 26,
     "metadata": {},
     "output_type": "execute_result"
    },
    {
     "data": {
      "image/png": "[encoded data removed]",
      "text/plain": [
       "<Figure size 432x288 with 1 Axes>"
      ]
     },
     "metadata": {
      "needs_background": "light"
     },
     "output_type": "display_data"
    }
   ],
   "source": [
    "ag = df.Age.value_counts(normalize=True).sort_index(ascending=True).plot(kind='bar',\n",
    "                                                                                     title = 'repartition des ages', color = 'red')\n",
    "ag"
   ]
  },
  {
   "cell_type": "code",
   "execution_count": 27,
   "metadata": {},
   "outputs": [
    {
     "data": {
      "text/plain": [
       "Urban    0.657309\n",
       "Rural    0.342691\n",
       "Name: Home_location, dtype: float64"
      ]
     },
     "execution_count": 27,
     "metadata": {},
     "output_type": "execute_result"
    },
    {
     "data": {
      "image/png": "[encoded data removed]",
      "text/plain": [
       "<Figure size 432x288 with 1 Axes>"
      ]
     },
     "metadata": {},
     "output_type": "display_data"
    }
   ],
   "source": [
    "home = df.Home_location.value_counts(normalize=False).plot(kind='pie', cmap='copper')\n",
    "home.set_ylabel('')\n",
    "df.Home_location.value_counts(normalize=True)"
   ]
  },
  {
   "cell_type": "code",
   "execution_count": 28,
   "metadata": {},
   "outputs": [
    {
     "data": {
      "text/plain": [
       "Under Graduate    0.790900\n",
       "Post Graduate     0.124879\n",
       "School            0.084221\n",
       "Name: Education, dtype: float64"
      ]
     },
     "execution_count": 28,
     "metadata": {},
     "output_type": "execute_result"
    },
    {
     "data": {
      "image/png": "[encoded data removed]",
      "text/plain": [
       "<Figure size 432x288 with 1 Axes>"
      ]
     },
     "metadata": {},
     "output_type": "display_data"
    }
   ],
   "source": [
    "edu = df.Education.value_counts(normalize=False).plot(kind='pie', cmap='copper')\n",
    "edu.set_ylabel('')\n",
    "df.Education.value_counts(normalize=True)"
   ]
  },
  {
   "cell_type": "code",
   "execution_count": 29,
   "metadata": {},
   "outputs": [
    {
     "data": {
      "text/plain": [
       "<AxesSubplot:title={'center':'Nombre de cours'}>"
      ]
     },
     "execution_count": 29,
     "metadata": {},
     "output_type": "execute_result"
    },
    {
     "data": {
      "image/png": "[encoded data removed]",
      "text/plain": [
       "<Figure size 432x288 with 1 Axes>"
      ]
     },
     "metadata": {
      "needs_background": "light"
     },
     "output_type": "display_data"
    }
   ],
   "source": [
    "subjets = df.nb_subjets.value_counts(normalize=True).sort_index(ascending=True).plot(kind='bar',\n",
    "                                                                                     title = 'Nombre de cours', color = 'red')\n",
    "subjets"
   ]
  },
  {
   "cell_type": "code",
   "execution_count": 30,
   "metadata": {},
   "outputs": [
    {
     "data": {
      "text/plain": [
       "<AxesSubplot:title={'center':'Outils utilisé'}>"
      ]
     },
     "execution_count": 30,
     "metadata": {},
     "output_type": "execute_result"
    },
    {
     "data": {
      "image/png": "[encoded data removed]",
      "text/plain": [
       "<Figure size 432x288 with 1 Axes>"
      ]
     },
     "metadata": {
      "needs_background": "light"
     },
     "output_type": "display_data"
    }
   ],
   "source": [
    "devices = df.Device_used.value_counts(normalize=True).sort_index(ascending=True).plot(kind='bar',\n",
    "                                                                                     title = 'Outils utilisé', color = 'red')\n",
    "devices\n"
   ]
  },
  {
   "cell_type": "code",
   "execution_count": 31,
   "metadata": {},
   "outputs": [
    {
     "data": {
      "text/plain": [
       "Laptop     0.650532\n",
       "Mobile     0.323330\n",
       "Desktop    0.026137\n",
       "Name: Device_used, dtype: float64"
      ]
     },
     "execution_count": 31,
     "metadata": {},
     "output_type": "execute_result"
    },
    {
     "data": {
      "image/png": "[encoded data removed]",
      "text/plain": [
       "<Figure size 432x288 with 1 Axes>"
      ]
     },
     "metadata": {},
     "output_type": "display_data"
    }
   ],
   "source": [
    "dev = df.Device_used.value_counts(normalize=False).plot(kind='pie', cmap='copper')\n",
    "dev.set_ylabel('')\n",
    "df.Device_used.value_counts(normalize=True)"
   ]
  },
  {
   "cell_type": "code",
   "execution_count": 32,
   "metadata": {},
   "outputs": [
    {
     "data": {
      "text/plain": [
       "<AxesSubplot:title={'center':'Classe social'}>"
      ]
     },
     "execution_count": 32,
     "metadata": {},
     "output_type": "execute_result"
    },
    {
     "data": {
      "image/png": "[encoded data removed]",
      "text/plain": [
       "<Figure size 432x288 with 1 Axes>"
      ]
     },
     "metadata": {
      "needs_background": "light"
     },
     "output_type": "display_data"
    }
   ],
   "source": [
    "\n",
    "eco = df.Economic_status.value_counts(normalize=True).sort_index(ascending=True).plot(kind='bar',\n",
    "                                                                                     title = 'Classe social', color = 'red')\n",
    "eco"
   ]
  },
  {
   "cell_type": "code",
   "execution_count": 33,
   "metadata": {},
   "outputs": [
    {
     "data": {
      "text/plain": [
       "Middle Class    0.923524\n",
       "Poor            0.047435\n",
       "Rich            0.029042\n",
       "Name: Economic_status, dtype: float64"
      ]
     },
     "execution_count": 33,
     "metadata": {},
     "output_type": "execute_result"
    },
    {
     "data": {
      "image/png": "[encoded data removed]",
      "text/plain": [
       "<Figure size 432x288 with 1 Axes>"
      ]
     },
     "metadata": {},
     "output_type": "display_data"
    }
   ],
   "source": [
    "ecobis = df.Economic_status.value_counts(normalize=False).plot(kind='pie', cmap='copper')\n",
    "ecobis.set_ylabel('')\n",
    "df.Economic_status.value_counts(normalize=True)"
   ]
  },
  {
   "cell_type": "code",
   "execution_count": 34,
   "metadata": {},
   "outputs": [
    {
     "data": {
      "text/plain": [
       "<AxesSubplot:title={'center':'Taille de la famille'}>"
      ]
     },
     "execution_count": 34,
     "metadata": {},
     "output_type": "execute_result"
    },
    {
     "data": {
      "image/png": "[encoded data removed]",
      "text/plain": [
       "<Figure size 432x288 with 1 Axes>"
      ]
     },
     "metadata": {
      "needs_background": "light"
     },
     "output_type": "display_data"
    }
   ],
   "source": [
    "famille = df.Family_size.value_counts(normalize=True).sort_index(ascending=True).plot(kind='bar',\n",
    "                                                                                     title = 'Taille de la famille', color = 'red')\n",
    "famille"
   ]
  },
  {
   "cell_type": "code",
   "execution_count": 35,
   "metadata": {},
   "outputs": [
    {
     "data": {
      "text/plain": [
       "4    0.341723\n",
       "3    0.315586\n",
       "5    0.206196\n",
       "2    0.105518\n",
       "1    0.030978\n",
       "Name: Internet, dtype: float64"
      ]
     },
     "execution_count": 35,
     "metadata": {},
     "output_type": "execute_result"
    },
    {
     "data": {
      "image/png": "[encoded data removed]",
      "text/plain": [
       "<Figure size 432x288 with 1 Axes>"
      ]
     },
     "metadata": {},
     "output_type": "display_data"
    }
   ],
   "source": [
    "internet = df.Internet.value_counts(normalize=False).plot(kind='pie', cmap='copper')\n",
    "internet.set_ylabel('')\n",
    "df.Internet.value_counts(normalize=True)"
   ]
  },
  {
   "cell_type": "code",
   "execution_count": 36,
   "metadata": {},
   "outputs": [
    {
     "data": {
      "text/plain": [
       "<AxesSubplot:title={'center':'Qualité connection internet'}>"
      ]
     },
     "execution_count": 36,
     "metadata": {},
     "output_type": "execute_result"
    },
    {
     "data": {
      "image/png": "[encoded data removed]",
      "text/plain": [
       "<Figure size 432x288 with 1 Axes>"
      ]
     },
     "metadata": {
      "needs_background": "light"
     },
     "output_type": "display_data"
    }
   ],
   "source": [
    "inter = df.Internet.value_counts(normalize=True).sort_index(ascending=True).plot(kind='bar',\n",
    "                                                                                     title = 'Qualité connection internet', color = 'red')\n",
    "inter"
   ]
  },
  {
   "cell_type": "code",
   "execution_count": 37,
   "metadata": {},
   "outputs": [
    {
     "data": {
      "text/plain": [
       "No     0.64182\n",
       "Yes    0.35818\n",
       "Name: Sport, dtype: float64"
      ]
     },
     "execution_count": 37,
     "metadata": {},
     "output_type": "execute_result"
    },
    {
     "data": {
      "image/png": "[encoded data removed]",
      "text/plain": [
       "<Figure size 432x288 with 1 Axes>"
      ]
     },
     "metadata": {},
     "output_type": "display_data"
    }
   ],
   "source": [
    "sport = df.Sport.value_counts(normalize=False).plot(kind='pie', cmap='copper')\n",
    "sport.set_ylabel('')\n",
    "df.Sport.value_counts(normalize=True)"
   ]
  },
  {
   "cell_type": "code",
   "execution_count": 38,
   "metadata": {},
   "outputs": [
    {
     "data": {
      "text/plain": [
       "Yes    0.52759\n",
       "No     0.47241\n",
       "Name: Monitoring, dtype: float64"
      ]
     },
     "execution_count": 38,
     "metadata": {},
     "output_type": "execute_result"
    },
    {
     "data": {
      "image/png": "[encoded data removed]",
      "text/plain": [
       "<Figure size 432x288 with 1 Axes>"
      ]
     },
     "metadata": {},
     "output_type": "display_data"
    }
   ],
   "source": [
    "moni = df.Monitoring.value_counts(normalize=False).plot(kind='pie', cmap='copper')\n",
    "moni.set_ylabel('')\n",
    "df.Monitoring.value_counts(normalize=True)"
   ]
  },
  {
   "cell_type": "code",
   "execution_count": 39,
   "metadata": {},
   "outputs": [
    {
     "data": {
      "text/plain": [
       "4     0.206196\n",
       "3     0.175218\n",
       "5     0.145208\n",
       "2     0.139400\n",
       "6     0.105518\n",
       "1     0.070668\n",
       "8     0.065828\n",
       "7     0.056147\n",
       "10    0.024201\n",
       "9     0.011617\n",
       "Name: Study, dtype: float64"
      ]
     },
     "execution_count": 39,
     "metadata": {},
     "output_type": "execute_result"
    },
    {
     "data": {
      "image/png": "[encoded data removed]",
      "text/plain": [
       "<Figure size 432x288 with 1 Axes>"
      ]
     },
     "metadata": {},
     "output_type": "display_data"
    }
   ],
   "source": [
    "study = df.Study.value_counts(normalize=False).plot(kind='pie', cmap='copper')\n",
    "study.set_ylabel('')\n",
    "df.Study.value_counts(normalize=True)"
   ]
  },
  {
   "cell_type": "code",
   "execution_count": 40,
   "metadata": {},
   "outputs": [
    {
     "data": {
      "text/plain": [
       "<AxesSubplot:title={'center':'Nb heures travail'}>"
      ]
     },
     "execution_count": 40,
     "metadata": {},
     "output_type": "execute_result"
    },
    {
     "data": {
      "image/png": "[encoded data removed]",
      "text/plain": [
       "<Figure size 432x288 with 1 Axes>"
      ]
     },
     "metadata": {
      "needs_background": "light"
     },
     "output_type": "display_data"
    }
   ],
   "source": [
    "stu = df.Study.value_counts(normalize=True).sort_index(ascending=True).plot(kind='bar',\n",
    "                                                                                     title = 'Nb heures travail', color = 'red')\n",
    "stu"
   ]
  },
  {
   "cell_type": "code",
   "execution_count": 41,
   "metadata": {},
   "outputs": [
    {
     "data": {
      "text/plain": [
       "<AxesSubplot:title={'center':'Nb heures sommeil'}>"
      ]
     },
     "execution_count": 41,
     "metadata": {},
     "output_type": "execute_result"
    },
    {
     "data": {
      "image/png": "[encoded data removed]",
      "text/plain": [
       "<Figure size 432x288 with 1 Axes>"
      ]
     },
     "metadata": {
      "needs_background": "light"
     },
     "output_type": "display_data"
    }
   ],
   "source": [
    "sleep = df.Sleep.value_counts(normalize=True).sort_index(ascending=True).plot(kind='bar',\n",
    "                                                                                     title = 'Nb heures sommeil', color = 'red')\n",
    "sleep"
   ]
  },
  {
   "cell_type": "code",
   "execution_count": 42,
   "metadata": {},
   "outputs": [
    {
     "data": {
      "text/plain": [
       "<AxesSubplot:title={'center':'Temps passé devant les Media'}>"
      ]
     },
     "execution_count": 42,
     "metadata": {},
     "output_type": "execute_result"
    },
    {
     "data": {
      "image/png": "[encoded data removed]",
      "text/plain": [
       "<Figure size 432x288 with 1 Axes>"
      ]
     },
     "metadata": {
      "needs_background": "light"
     },
     "output_type": "display_data"
    }
   ],
   "source": [
    "media = df.Media.value_counts(normalize=True).sort_index(ascending=True).plot(kind='bar',\n",
    "                                                                                     title = 'Temps passé devant les Media', color = 'red')\n",
    "media"
   ]
  },
  {
   "cell_type": "code",
   "execution_count": 43,
   "metadata": {},
   "outputs": [
    {
     "data": {
      "text/plain": [
       "<AxesSubplot:title={'center':'Interessé par le Gaming ?'}>"
      ]
     },
     "execution_count": 43,
     "metadata": {},
     "output_type": "execute_result"
    },
    {
     "data": {
      "image/png": "[encoded data removed]",
      "text/plain": [
       "<Figure size 432x288 with 1 Axes>"
      ]
     },
     "metadata": {
      "needs_background": "light"
     },
     "output_type": "display_data"
    }
   ],
   "source": [
    "gaming = df.Gaming.value_counts(normalize=True).sort_index(ascending=True).plot(kind='bar',\n",
    "                                                                                     title = 'Interessé par le Gaming ?', color = 'red')\n",
    "gaming"
   ]
  },
  {
   "cell_type": "code",
   "execution_count": 44,
   "metadata": {},
   "outputs": [
    {
     "data": {
      "text/plain": [
       "<AxesSubplot:title={'center':'Possibilité de travailler dans une pièce seul'}>"
      ]
     },
     "execution_count": 44,
     "metadata": {},
     "output_type": "execute_result"
    },
    {
     "data": {
      "image/png": "[encoded data removed]",
      "text/plain": [
       "<Figure size 432x288 with 1 Axes>"
      ]
     },
     "metadata": {
      "needs_background": "light"
     },
     "output_type": "display_data"
    }
   ],
   "source": [
    "room = df.separate_room.value_counts(normalize=True).sort_index(ascending=True).plot(kind='bar',\n",
    "                                                                                     title = 'Possibilité de travailler dans une pièce seul', color = 'red')\n",
    "room"
   ]
  },
  {
   "cell_type": "code",
   "execution_count": 45,
   "metadata": {},
   "outputs": [
    {
     "data": {
      "text/plain": [
       "<AxesSubplot:title={'center':'Travail en groupe'}>"
      ]
     },
     "execution_count": 45,
     "metadata": {},
     "output_type": "execute_result"
    },
    {
     "data": {
      "image/png": "[encoded data removed]",
      "text/plain": [
       "<Figure size 432x288 with 1 Axes>"
      ]
     },
     "metadata": {
      "needs_background": "light"
     },
     "output_type": "display_data"
    }
   ],
   "source": [
    "groupe = df.group_study.value_counts(normalize=True).sort_index(ascending=True).plot(kind='bar',\n",
    "                                                                                     title = 'Travail en groupe', color = 'red')\n",
    "groupe"
   ]
  },
  {
   "cell_type": "code",
   "execution_count": 46,
   "metadata": {},
   "outputs": [
    {
     "data": {
      "text/plain": [
       "<AxesSubplot:title={'center':'Note avant distanciel'}>"
      ]
     },
     "execution_count": 46,
     "metadata": {},
     "output_type": "execute_result"
    },
    {
     "data": {
      "image/png": "[encoded data removed]",
      "text/plain": [
       "<Figure size 432x288 with 1 Axes>"
      ]
     },
     "metadata": {
      "needs_background": "light"
     },
     "output_type": "display_data"
    }
   ],
   "source": [
    "avant = df.Note_avant.value_counts(normalize=True).sort_index(ascending=True).plot(kind='bar',\n",
    "                                                                                     title = 'Note avant distanciel', color = 'red')\n",
    "avant"
   ]
  },
  {
   "cell_type": "code",
   "execution_count": 47,
   "metadata": {},
   "outputs": [
    {
     "data": {
      "text/plain": [
       "<AxesSubplot:title={'center':'Taux interactions online'}>"
      ]
     },
     "execution_count": 47,
     "metadata": {},
     "output_type": "execute_result"
    },
    {
     "data": {
      "image/png": "[encoded data removed]",
      "text/plain": [
       "<Figure size 432x288 with 1 Axes>"
      ]
     },
     "metadata": {
      "needs_background": "light"
     },
     "output_type": "display_data"
    }
   ],
   "source": [
    "online = df.Online_mode.value_counts(normalize=True).sort_index(ascending=True).plot(kind='bar',\n",
    "                                                                                     title = 'Taux interactions online', color = 'red')\n",
    "online"
   ]
  },
  {
   "cell_type": "code",
   "execution_count": 48,
   "metadata": {},
   "outputs": [
    {
     "data": {
      "text/plain": [
       "<AxesSubplot:title={'center':'Si on se sent capable de poser des questions online'}>"
      ]
     },
     "execution_count": 48,
     "metadata": {},
     "output_type": "execute_result"
    },
    {
     "data": {
      "image/png": "[encoded data removed]",
      "text/plain": [
       "<Figure size 432x288 with 1 Axes>"
      ]
     },
     "metadata": {
      "needs_background": "light"
     },
     "output_type": "display_data"
    }
   ],
   "source": [
    "doubts = df.doubts_online.value_counts(normalize=True).sort_index(ascending=True).plot(kind='bar',\n",
    "                                                                                     title = 'Si on se sent capable de poser des questions online', color = 'red')\n",
    "doubts"
   ]
  },
  {
   "cell_type": "code",
   "execution_count": 49,
   "metadata": {},
   "outputs": [
    {
     "data": {
      "text/plain": [
       "<AxesSubplot:title={'center':'Quelle préférence ?'}>"
      ]
     },
     "execution_count": 49,
     "metadata": {},
     "output_type": "execute_result"
    },
    {
     "data": {
      "image/png": "[encoded data removed]",
      "text/plain": [
       "<Figure size 432x288 with 1 Axes>"
      ]
     },
     "metadata": {
      "needs_background": "light"
     },
     "output_type": "display_data"
    }
   ],
   "source": [
    "pref = df.interest.value_counts(normalize=True).sort_index(ascending=True).plot(kind='bar',\n",
    "                                                                                     title = 'Quelle préférence ?', color = 'red')\n",
    "pref"
   ]
  },
  {
   "cell_type": "code",
   "execution_count": 50,
   "metadata": {},
   "outputs": [
    {
     "data": {
      "text/plain": [
       "<AxesSubplot:title={'center':'Note online'}>"
      ]
     },
     "execution_count": 50,
     "metadata": {},
     "output_type": "execute_result"
    },
    {
     "data": {
      "image/png": "[encoded data removed]",
      "text/plain": [
       "<Figure size 432x288 with 1 Axes>"
      ]
     },
     "metadata": {
      "needs_background": "light"
     },
     "output_type": "display_data"
    }
   ],
   "source": [
    "prefor = df.performance_online.value_counts(normalize=True).sort_index(ascending=True).plot(kind='bar',\n",
    "                                                                                     title = 'Note online', color = 'red')\n",
    "prefor"
   ]
  },
  {
   "cell_type": "code",
   "execution_count": 51,
   "metadata": {},
   "outputs": [
    {
     "data": {
      "text/plain": [
       "<AxesSubplot:title={'center':'satisfaction online'}>"
      ]
     },
     "execution_count": 51,
     "metadata": {},
     "output_type": "execute_result"
    },
    {
     "data": {
      "image/png": "[encoded data removed]",
      "text/plain": [
       "<Figure size 432x288 with 1 Axes>"
      ]
     },
     "metadata": {
      "needs_background": "light"
     },
     "output_type": "display_data"
    }
   ],
   "source": [
    "satis = df.Satisfaction_online.value_counts(normalize=True).sort_index(ascending=True).plot(kind='bar',\n",
    "                                                                                     title = 'satisfaction online', color = 'red')\n",
    "satis"
   ]
  },
  {
   "cell_type": "code",
   "execution_count": 53,
   "metadata": {},
   "outputs": [
    {
     "data": {
      "text/plain": [
       "<AxesSubplot:title={'center':'Note online'}>"
      ]
     },
     "execution_count": 53,
     "metadata": {},
     "output_type": "execute_result"
    },
    {
     "data": {
      "image/png": "[encoded data removed]",
      "text/plain": [
       "<Figure size 432x288 with 1 Axes>"
      ]
     },
     "metadata": {
      "needs_background": "light"
     },
     "output_type": "display_data"
    }
   ],
   "source": [
    "prefor = df1.performance_online.value_counts(normalize=True).sort_index(ascending=True).plot(kind='bar',\n",
    "                                                                                     title = 'Note online', color = 'red')\n",
    "prefor"
   ]
  },
  {
   "cell_type": "code",
   "execution_count": 54,
   "metadata": {},
   "outputs": [
    {
     "data": {
      "text/html": [
       "<div>\n",
       "<style scoped>\n",
       "    .dataframe tbody tr th:only-of-type {\n",
       "        vertical-align: middle;\n",
       "    }\n",
       "\n",
       "    .dataframe tbody tr th {\n",
       "        vertical-align: top;\n",
       "    }\n",
       "\n",
       "    .dataframe thead th {\n",
       "        text-align: right;\n",
       "    }\n",
       "</style>\n",
       "<table border=\"1\" class=\"dataframe\">\n",
       "  <thead>\n",
       "    <tr style=\"text-align: right;\">\n",
       "      <th></th>\n",
       "      <th>Unnamed: 0</th>\n",
       "      <th>Age</th>\n",
       "      <th>nb_subjets</th>\n",
       "      <th>Family_size</th>\n",
       "      <th>Internet</th>\n",
       "      <th>Study</th>\n",
       "      <th>Sleep</th>\n",
       "      <th>Media</th>\n",
       "      <th>Note_avant</th>\n",
       "      <th>Online_mode</th>\n",
       "      <th>...</th>\n",
       "      <th>Gaming_Yes</th>\n",
       "      <th>separate_room_Yes</th>\n",
       "      <th>group_study_yes</th>\n",
       "      <th>interest_Both</th>\n",
       "      <th>interest_Practical</th>\n",
       "      <th>interest_Theory</th>\n",
       "      <th>Satisfaction_online_Average</th>\n",
       "      <th>Satisfaction_online_Bad</th>\n",
       "      <th>Satisfaction_online_Good</th>\n",
       "      <th>y</th>\n",
       "    </tr>\n",
       "  </thead>\n",
       "  <tbody>\n",
       "    <tr>\n",
       "      <th>0</th>\n",
       "      <td>0</td>\n",
       "      <td>0.290323</td>\n",
       "      <td>0.526316</td>\n",
       "      <td>0.250</td>\n",
       "      <td>1.00</td>\n",
       "      <td>0.222222</td>\n",
       "      <td>0.555556</td>\n",
       "      <td>0.000000</td>\n",
       "      <td>1.000000</td>\n",
       "      <td>0.0</td>\n",
       "      <td>...</td>\n",
       "      <td>0</td>\n",
       "      <td>0</td>\n",
       "      <td>0</td>\n",
       "      <td>0</td>\n",
       "      <td>1</td>\n",
       "      <td>0</td>\n",
       "      <td>1</td>\n",
       "      <td>0</td>\n",
       "      <td>0</td>\n",
       "      <td>0.0</td>\n",
       "    </tr>\n",
       "    <tr>\n",
       "      <th>1</th>\n",
       "      <td>1</td>\n",
       "      <td>0.322581</td>\n",
       "      <td>0.315789</td>\n",
       "      <td>0.250</td>\n",
       "      <td>0.00</td>\n",
       "      <td>0.666667</td>\n",
       "      <td>0.444444</td>\n",
       "      <td>0.000000</td>\n",
       "      <td>1.000000</td>\n",
       "      <td>0.0</td>\n",
       "      <td>...</td>\n",
       "      <td>1</td>\n",
       "      <td>1</td>\n",
       "      <td>0</td>\n",
       "      <td>0</td>\n",
       "      <td>0</td>\n",
       "      <td>1</td>\n",
       "      <td>0</td>\n",
       "      <td>1</td>\n",
       "      <td>0</td>\n",
       "      <td>0.0</td>\n",
       "    </tr>\n",
       "    <tr>\n",
       "      <th>2</th>\n",
       "      <td>2</td>\n",
       "      <td>0.290323</td>\n",
       "      <td>0.210526</td>\n",
       "      <td>0.375</td>\n",
       "      <td>0.25</td>\n",
       "      <td>0.555556</td>\n",
       "      <td>0.666667</td>\n",
       "      <td>0.000000</td>\n",
       "      <td>0.777778</td>\n",
       "      <td>0.0</td>\n",
       "      <td>...</td>\n",
       "      <td>0</td>\n",
       "      <td>1</td>\n",
       "      <td>0</td>\n",
       "      <td>1</td>\n",
       "      <td>0</td>\n",
       "      <td>0</td>\n",
       "      <td>0</td>\n",
       "      <td>1</td>\n",
       "      <td>0</td>\n",
       "      <td>0.0</td>\n",
       "    </tr>\n",
       "    <tr>\n",
       "      <th>3</th>\n",
       "      <td>3</td>\n",
       "      <td>0.290323</td>\n",
       "      <td>0.210526</td>\n",
       "      <td>0.250</td>\n",
       "      <td>0.75</td>\n",
       "      <td>0.222222</td>\n",
       "      <td>0.555556</td>\n",
       "      <td>0.111111</td>\n",
       "      <td>1.000000</td>\n",
       "      <td>0.0</td>\n",
       "      <td>...</td>\n",
       "      <td>0</td>\n",
       "      <td>0</td>\n",
       "      <td>1</td>\n",
       "      <td>0</td>\n",
       "      <td>0</td>\n",
       "      <td>1</td>\n",
       "      <td>0</td>\n",
       "      <td>1</td>\n",
       "      <td>0</td>\n",
       "      <td>0.0</td>\n",
       "    </tr>\n",
       "    <tr>\n",
       "      <th>4</th>\n",
       "      <td>4</td>\n",
       "      <td>0.290323</td>\n",
       "      <td>0.210526</td>\n",
       "      <td>0.250</td>\n",
       "      <td>0.50</td>\n",
       "      <td>0.777778</td>\n",
       "      <td>0.666667</td>\n",
       "      <td>0.111111</td>\n",
       "      <td>0.888889</td>\n",
       "      <td>0.5</td>\n",
       "      <td>...</td>\n",
       "      <td>1</td>\n",
       "      <td>1</td>\n",
       "      <td>1</td>\n",
       "      <td>1</td>\n",
       "      <td>0</td>\n",
       "      <td>0</td>\n",
       "      <td>1</td>\n",
       "      <td>0</td>\n",
       "      <td>0</td>\n",
       "      <td>0.0</td>\n",
       "    </tr>\n",
       "  </tbody>\n",
       "</table>\n",
       "<p>5 rows × 35 columns</p>\n",
       "</div>"
      ],
      "text/plain": [
       "   Unnamed: 0       Age  nb_subjets  Family_size  Internet     Study  \\\n",
       "0           0  0.290323    0.526316        0.250      1.00  0.222222   \n",
       "1           1  0.322581    0.315789        0.250      0.00  0.666667   \n",
       "2           2  0.290323    0.210526        0.375      0.25  0.555556   \n",
       "3           3  0.290323    0.210526        0.250      0.75  0.222222   \n",
       "4           4  0.290323    0.210526        0.250      0.50  0.777778   \n",
       "\n",
       "      Sleep     Media  Note_avant  Online_mode  ...  Gaming_Yes  \\\n",
       "0  0.555556  0.000000    1.000000          0.0  ...           0   \n",
       "1  0.444444  0.000000    1.000000          0.0  ...           1   \n",
       "2  0.666667  0.000000    0.777778          0.0  ...           0   \n",
       "3  0.555556  0.111111    1.000000          0.0  ...           0   \n",
       "4  0.666667  0.111111    0.888889          0.5  ...           1   \n",
       "\n",
       "   separate_room_Yes  group_study_yes  interest_Both  interest_Practical  \\\n",
       "0                  0                0              0                   1   \n",
       "1                  1                0              0                   0   \n",
       "2                  1                0              1                   0   \n",
       "3                  0                1              0                   0   \n",
       "4                  1                1              1                   0   \n",
       "\n",
       "   interest_Theory  Satisfaction_online_Average  Satisfaction_online_Bad  \\\n",
       "0                0                            1                        0   \n",
       "1                1                            0                        1   \n",
       "2                0                            0                        1   \n",
       "3                1                            0                        1   \n",
       "4                0                            1                        0   \n",
       "\n",
       "   Satisfaction_online_Good    y  \n",
       "0                         0  0.0  \n",
       "1                         0  0.0  \n",
       "2                         0  0.0  \n",
       "3                         0  0.0  \n",
       "4                         0  0.0  \n",
       "\n",
       "[5 rows x 35 columns]"
      ]
     },
     "execution_count": 54,
     "metadata": {},
     "output_type": "execute_result"
    },
    {
     "data": {
      "image/png": "[encoded data removed]",
      "text/plain": [
       "<Figure size 432x288 with 1 Axes>"
      ]
     },
     "metadata": {
      "needs_background": "light"
     },
     "output_type": "display_data"
    }
   ],
   "source": [
    "import numpy as np1 \n",
    "df1['y'] = np1.where(df['performance_online']<=6, 0.0 , 1.0)\n",
    "prefor = df1.y.value_counts(normalize=True).sort_index(ascending=True).plot(kind='bar',\n",
    "                                                                                     title = 'Note online', color = 'red')\n",
    "prefor\n",
    "df1.head()"
   ]
  },
  {
   "cell_type": "code",
   "execution_count": 55,
   "metadata": {},
   "outputs": [
    {
     "data": {
      "image/png": "[encoded data removed]",
      "text/plain": [
       "<Figure size 432x288 with 1 Axes>"
      ]
     },
     "metadata": {
      "needs_background": "light"
     },
     "output_type": "display_data"
    }
   ],
   "source": [
    "import matplotlib.pyplot as plt\n",
    "import numpy as np1\n",
    "fig = plt.figure()\n",
    "ax  = fig.add_subplot(111)\n",
    "plt.scatter(df1['performance_online'], df1['Note_avant'] , color='#FFB9BA', marker='o', s = 100)\n",
    "plt.show()"
   ]
  },
  {
   "cell_type": "code",
   "execution_count": 56,
   "metadata": {},
   "outputs": [
    {
     "name": "stdout",
     "output_type": "stream",
     "text": [
      "[[ 0.  0.  0.  1.  0.  0.  0.  0.  0.]\n",
      " [ 1.  0.  1.  1.  0.  0.  1.  1.  1.]\n",
      " [ 2.  0.  0.  0.  1.  1.  1.  1.  1.]\n",
      " [ 3.  1.  1.  0.  5.  0.  1.  0.  0.]\n",
      " [ 1.  1.  2.  3.  5.  3.  3.  1.  5.]\n",
      " [ 1.  2.  4.  1. 12.  6. 11.  7.  8.]\n",
      " [ 2.  1.  7.  8. 42. 25. 15.  4. 14.]\n",
      " [10.  7. 23. 26. 64. 62. 74. 20. 27.]\n",
      " [ 9.  7. 29. 36. 84. 59. 77. 25. 17.]\n",
      " [ 8.  4. 11. 16. 31. 25. 35. 14. 14.]]\n",
      "1033\n"
     ]
    }
   ],
   "source": [
    "note_avant = 10\n",
    "perf_online = 9\n",
    "a = np1.zeros(shape=(10,9))\n",
    "b=0\n",
    "for i in range (len(df)) :\n",
    "    x = df['performance_online'][i] -2\n",
    "    y = df1['Note_avant'][i] * 9\n",
    "    try :\n",
    "        a[int(y)][int(x)] += 1\n",
    "        b +=1\n",
    "    except IndexError :\n",
    "        print(int(y),int(x))\n",
    "print(a)\n",
    "print(b)\n",
    "    "
   ]
  },
  {
   "cell_type": "code",
   "execution_count": 57,
   "metadata": {},
   "outputs": [
    {
     "data": {
      "image/png": "[encoded data removed]",
      "text/plain": [
       "<Figure size 432x288 with 2 Axes>"
      ]
     },
     "metadata": {
      "needs_background": "light"
     },
     "output_type": "display_data"
    }
   ],
   "source": [
    "data2D = a\n",
    "im = plt.imshow(data2D, cmap=\"copper_r\")\n",
    "plt.colorbar(im)\n",
    "plt.show()"
   ]
  },
  {
   "cell_type": "code",
   "execution_count": 58,
   "metadata": {},
   "outputs": [
    {
     "data": {
      "text/plain": [
       "0       1.000000\n",
       "1       1.000000\n",
       "2       0.777778\n",
       "3       1.000000\n",
       "4       0.888889\n",
       "          ...   \n",
       "1028    1.000000\n",
       "1029    0.777778\n",
       "1030    0.777778\n",
       "1031    0.666667\n",
       "1032    0.888889\n",
       "Name: Note_avant, Length: 1033, dtype: float64"
      ]
     },
     "execution_count": 58,
     "metadata": {},
     "output_type": "execute_result"
    }
   ],
   "source": [
    "df1['Note_avant']"
   ]
  }
 ],
 "metadata": {
  "kernelspec": {
   "display_name": "Python 3 (ipykernel)",
   "language": "python",
   "name": "python3"
  },
  "language_info": {
   "codemirror_mode": {
    "name": "ipython",
    "version": 3
   },
   "file_extension": ".py",
   "mimetype": "text/x-python",
   "name": "python",
   "nbconvert_exporter": "python",
   "pygments_lexer": "ipython3",
   "version": "3.9.7"
  }
 },
 "nbformat": 4,
 "nbformat_minor": 4
}
