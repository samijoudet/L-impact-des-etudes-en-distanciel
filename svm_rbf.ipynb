{
 "cells": [
  {
   "cell_type": "raw",
   "metadata": {},
   "source": [
    "Ici on utilise l'algorithme SVM avec le noyau rbf.\n",
    "On utilise également une méthode pour rechercher automatique les paramètres C et gamma optimal de la librairie sklearn.model_selection appeller RandomizedSearchCV trouver vu ci_dessous :\n",
    "https://scikit-learn.org/stable/auto_examples/applications/plot_face_recognition.html#sphx-glr-auto-examples-applications-plot-face-recognition-py\n",
    "Ainsi, nous avons besoin de fractionner la base en deux partie seulement avec 70% training et 30% de validation."
   ]
  },
  {
   "cell_type": "code",
   "execution_count": 26,
   "metadata": {},
   "outputs": [],
   "source": [
    "import pandas as np\n",
    "import numpy as np1 \n",
    "from sklearn.svm import SVC\n",
    "import matplotlib.pyplot as plt\n",
    "from sklearn import svm, datasets, metrics"
   ]
  },
  {
   "cell_type": "code",
   "execution_count": 42,
   "metadata": {},
   "outputs": [],
   "source": [
    "from sklearn.model_selection import train_test_split\n",
    "from sklearn.model_selection import RandomizedSearchCV\n",
    "from sklearn.datasets import fetch_lfw_people\n",
    "from sklearn.metrics import classification_report\n",
    "from sklearn.metrics import ConfusionMatrixDisplay\n",
    "from sklearn.preprocessing import StandardScaler\n",
    "from sklearn.decomposition import PCA\n",
    "from sklearn.svm import SVC\n",
    "from sklearn.utils.fixes import loguniform"
   ]
  },
  {
   "cell_type": "code",
   "execution_count": 43,
   "metadata": {},
   "outputs": [],
   "source": [
    "def normalize(data, cat) :\n",
    "    data[cat]= ((data[cat]-data[cat].min())/ (data[cat].max()-data[cat].min()))"
   ]
  },
  {
   "cell_type": "code",
   "execution_count": 44,
   "metadata": {},
   "outputs": [],
   "source": [
    "def perf_measure(y_actual, y_hat):\n",
    "    y_ac = y_hat.copy()\n",
    "    acc = 0\n",
    "    for i in y_actual.keys() :\n",
    "        y_ac[acc] = y_actual[i]\n",
    "        acc += 1\n",
    "    TP = 0\n",
    "    FP = 0\n",
    "    TN = 0\n",
    "    FN = 0\n",
    "\n",
    "    for i in range(len(y_hat)): \n",
    "        if y_ac[i]==y_hat[i]==1:\n",
    "           TP += 1\n",
    "        if y_hat[i]==1 and y_ac[i]!=y_hat[i]:\n",
    "           FP += 1\n",
    "        if y_ac[i]==y_hat[i]==0:\n",
    "           TN += 1\n",
    "        if y_hat[i]==0 and y_ac[i]!=y_hat[i]:\n",
    "           FN += 1\n",
    "\n",
    "    return(TP, FP, TN, FN)"
   ]
  },
  {
   "cell_type": "code",
   "execution_count": 45,
   "metadata": {},
   "outputs": [],
   "source": [
    "df = np.read_csv(\"educnorma.csv\",index_col=0)\n",
    "df2 = np.read_csv(\"education.csv\")"
   ]
  },
  {
   "cell_type": "code",
   "execution_count": 46,
   "metadata": {},
   "outputs": [],
   "source": [
    "y = df2[\"Performance in online\"].copy()\n",
    "\n",
    "df.drop([\"performance_online\"],axis=1,inplace=True)"
   ]
  },
  {
   "cell_type": "code",
   "execution_count": 7,
   "metadata": {},
   "outputs": [],
   "source": [
    "def prepa(y):\n",
    "    for i in y.keys() :\n",
    "        if y[i] < 7: y[i]= 0\n",
    "        else : y[i]=1\n",
    "\n",
    "def prepa2(y):\n",
    "    for i in range (len(y)) :\n",
    "        if y[i] < 7: y[i]= 0\n",
    "        else : y[i]=1"
   ]
  },
  {
   "cell_type": "code",
   "execution_count": 8,
   "metadata": {},
   "outputs": [],
   "source": [
    "import math\n",
    "from random import seed, shuffle\n",
    "SEED = 1122334455\n",
    "seed(SEED)\n",
    "np1.random.seed(SEED)\n",
    "\n",
    "def reapeated_random(n_iter,df_1) :\n",
    "    X = df_1.to_numpy(copy=True)\n",
    "    y1 = y.to_numpy(copy=True)   \n",
    "    matrise_result=[] # dim 1 -> interation \n",
    "                     # dim 2 -> 0: training ; 2:validation\n",
    "    param_grid = {\n",
    "    \"C\": loguniform(1e2, 1e5),\n",
    "    \"gamma\": loguniform(1e-4, 1e-1),\n",
    "    }\n",
    "    for i in range (n_iter) :\n",
    "        print(i,end='')\n",
    "        n_size=np1.shape(X)[0]\n",
    "        perm = list(range(0,n_size))\n",
    "        shuffle(perm)\n",
    "        X_syn1 = X[perm]\n",
    "        y_syn1 = y[perm]\n",
    "        #Generate training, testing and validation:\n",
    "        n_train=int(0.7*n_size)\n",
    "        n = np1.shape(X_syn1)[0]\n",
    "        X_training=X_syn1[0:n_train,:]\n",
    "        y_training=y_syn1[0:n_train]\n",
    "\n",
    "        X_validation=X_syn1[(math.floor((n-n_train))):n,:]\n",
    "        y_validation=y_syn1[(math.floor((n-n_train))):n]\n",
    "        #resolution\n",
    "        clf = RandomizedSearchCV(\n",
    "            SVC(kernel=\"rbf\", class_weight=\"balanced\"), param_grid, n_iter=10\n",
    "        )\n",
    "        clf = clf.fit(X_training,y_training)\n",
    "        y_pred_training=clf.predict(X_training) \n",
    "        y_pred_validation=clf.predict(X_validation)\n",
    "        \n",
    "        prepa2(y_pred_training)\n",
    "        y_training2 = y_training.copy()\n",
    "        prepa(y_training2)\n",
    "        prepa2(y_pred_validation)\n",
    "        y_validation2 = y_validation.copy()\n",
    "        prepa(y_validation2)\n",
    "\n",
    "        Accuracy_training=(metrics.accuracy_score(y_training2, y_pred_training)*100)\n",
    "        Accuracy_validation=(metrics.accuracy_score(y_validation2, y_pred_validation)*100)   \n",
    "        \n",
    "        matrise_result += [[Accuracy_training,Accuracy_validation,clf.best_estimator_]]\n",
    "    return matrise_result\n",
    "\n"
   ]
  },
  {
   "cell_type": "code",
   "execution_count": 9,
   "metadata": {},
   "outputs": [],
   "source": [
    "def final_accuracy(matrice):\n",
    "    Final_accuracy = []\n",
    "    for i in range (len(matrice)):\n",
    "        Final_accuracy += [matrice[i][1]]\n",
    "    print(\"La précision moyenne est  %.2f\" %np1.mean(Final_accuracy))\n",
    "    print(\"La variance de précision est %.2f\" %np1.var(Final_accuracy))\n",
    "\n",
    "def liste_parametre(matrice):\n",
    "    liste_C = []\n",
    "    liste_gamma = []\n",
    "    for i in range (len(matrice)):\n",
    "        liste_C += [matrice[i][2].C]\n",
    "        liste_gamma += [matrice[i][2].gamma]\n",
    "    return liste_C,liste_gamma"
   ]
  },
  {
   "cell_type": "code",
   "execution_count": 32,
   "metadata": {},
   "outputs": [
    {
     "name": "stdout",
     "output_type": "stream",
     "text": [
      "<class 'pandas.core.frame.DataFrame'>\n",
      "Int64Index: 1033 entries, 0 to 1032\n",
      "Data columns (total 32 columns):\n",
      " #   Column                        Non-Null Count  Dtype  \n",
      "---  ------                        --------------  -----  \n",
      " 0   Age                           1033 non-null   float64\n",
      " 1   nb_subjets                    1033 non-null   float64\n",
      " 2   Family_size                   1033 non-null   float64\n",
      " 3   Internet                      1033 non-null   float64\n",
      " 4   Study                         1033 non-null   float64\n",
      " 5   Sleep                         1033 non-null   float64\n",
      " 6   Media                         1033 non-null   float64\n",
      " 7   Note_avant                    1033 non-null   float64\n",
      " 8   Online_mode                   1033 non-null   float64\n",
      " 9   doubts_online                 1033 non-null   float64\n",
      " 10  Gender_Male                   1033 non-null   int64  \n",
      " 11  Home_location_Urban           1033 non-null   int64  \n",
      " 12  Education_Post Graduate       1033 non-null   int64  \n",
      " 13  Education_School              1033 non-null   int64  \n",
      " 14  Education_Under Graduate      1033 non-null   int64  \n",
      " 15  Device_used_Desktop           1033 non-null   int64  \n",
      " 16  Device_used_Laptop            1033 non-null   int64  \n",
      " 17  Device_used_Mobile            1033 non-null   int64  \n",
      " 18  Economic_status_Middle Class  1033 non-null   int64  \n",
      " 19  Economic_status_Poor          1033 non-null   int64  \n",
      " 20  Economic_status_Rich          1033 non-null   int64  \n",
      " 21  Sport_Yes                     1033 non-null   int64  \n",
      " 22  Monitoring_Yes                1033 non-null   int64  \n",
      " 23  Gaming_Yes                    1033 non-null   int64  \n",
      " 24  separate_room_Yes             1033 non-null   int64  \n",
      " 25  group_study_yes               1033 non-null   int64  \n",
      " 26  interest_Both                 1033 non-null   int64  \n",
      " 27  interest_Practical            1033 non-null   int64  \n",
      " 28  interest_Theory               1033 non-null   int64  \n",
      " 29  Satisfaction_online_Average   1033 non-null   int64  \n",
      " 30  Satisfaction_online_Bad       1033 non-null   int64  \n",
      " 31  Satisfaction_online_Good      1033 non-null   int64  \n",
      "dtypes: float64(10), int64(22)\n",
      "memory usage: 266.3 KB\n"
     ]
    }
   ],
   "source": [
    "df.info()"
   ]
  },
  {
   "cell_type": "code",
   "execution_count": 10,
   "metadata": {},
   "outputs": [
    {
     "name": "stdout",
     "output_type": "stream",
     "text": [
      "0123456789\n",
      "La précision moyenne est  79.49\n",
      "La variance de précision est 5.76\n"
     ]
    }
   ],
   "source": [
    "matrice = np1.array(reapeated_random(10,df))\n",
    "print('')\n",
    "final_accuracy(matrice)"
   ]
  },
  {
   "cell_type": "code",
   "execution_count": 11,
   "metadata": {},
   "outputs": [
    {
     "data": {
      "image/png": "[encoded data removed]",
      "text/plain": [
       "<Figure size 432x288 with 1 Axes>"
      ]
     },
     "metadata": {
      "needs_background": "light"
     },
     "output_type": "display_data"
    }
   ],
   "source": [
    "a,b= liste_parametre(matrice)\n",
    "fig = plt.figure(figsize=(6,4))\n",
    "plt.scatter(a, b , color='#222222', marker='o', s = 100)\n",
    "\n",
    "plt.yscale(\"log\") ; plt.xscale(\"log\")\n",
    "plt.xlabel(\"C\") ; plt.ylabel(\"gamma\") ;plt.title(\"Parametre Optimal\")\n",
    "plt.ylim(0.001,0.1) ; plt.xlim(100,100000)\n",
    "\n",
    "plt.show()"
   ]
  },
  {
   "cell_type": "code",
   "execution_count": 12,
   "metadata": {},
   "outputs": [],
   "source": [
    "def liste_C(matrice):\n",
    "    liste_C = []\n",
    "    liste_précision = []\n",
    "    for i in range (len(matrice)):\n",
    "        liste_C += [matrice[i][2].C]\n",
    "        liste_précision += [matrice[i][1]]\n",
    "    return liste_C,liste_précision\n",
    "\n",
    "def liste_gamma(matrice):\n",
    "    liste_gamma = []\n",
    "    liste_précision = []\n",
    "    for i in range (len(matrice)):\n",
    "        liste_gamma += [matrice[i][2].gamma]\n",
    "        liste_précision += [matrice[i][1]]\n",
    "    return liste_gamma,liste_précision"
   ]
  },
  {
   "cell_type": "code",
   "execution_count": 14,
   "metadata": {},
   "outputs": [
    {
     "data": {
      "image/png": "[encoded data removed]",
      "text/plain": [
       "<Figure size 432x288 with 1 Axes>"
      ]
     },
     "metadata": {
      "needs_background": "light"
     },
     "output_type": "display_data"
    },
    {
     "data": {
      "image/png": "[encoded data removed]",
      "text/plain": [
       "<Figure size 432x288 with 1 Axes>"
      ]
     },
     "metadata": {
      "needs_background": "light"
     },
     "output_type": "display_data"
    }
   ],
   "source": [
    "a,b= liste_C(matrice)\n",
    "fig = plt.figure(figsize=(6,4))\n",
    "plt.scatter(a, b , color='#222222', marker='o', s = 100)\n",
    "\n",
    "plt.xscale(\"log\")\n",
    "plt.xlabel(\"C\") ; plt.ylabel(\"pourcentage\") ;plt.title(\"Parametre Optimal\")\n",
    "plt.ylim(70,85) ; plt.xlim(100,100000)\n",
    "\n",
    "plt.show()\n",
    "\n",
    "a,b= liste_gamma(matrice)\n",
    "fig = plt.figure(figsize=(6,4))\n",
    "plt.scatter(a, b , color='#222222', marker='o', s = 100)\n",
    "\n",
    "plt.xscale(\"log\")\n",
    "plt.xlabel(\"gamma\") ; plt.ylabel(\"pourcentage\") ;plt.title(\"Parametre Optimal\")\n",
    "plt.ylim(70,85) ; plt.xlim(0.1,0.001)\n",
    "\n",
    "plt.show()"
   ]
  },
  {
   "cell_type": "code",
   "execution_count": 16,
   "metadata": {},
   "outputs": [
    {
     "name": "stdout",
     "output_type": "stream",
     "text": [
      "0123456789\n",
      "La précision moyenne est  56.49\n",
      "La variance de précision est 3.20\n"
     ]
    }
   ],
   "source": [
    "df_2 = df[[\"Study\",\"Sleep\",\"Media\",\"Note_avant\"]].copy()\n",
    "matrice = np1.array(reapeated_random(10,df_2))\n",
    "print('')\n",
    "final_accuracy(matrice)"
   ]
  },
  {
   "cell_type": "code",
   "execution_count": 47,
   "metadata": {},
   "outputs": [],
   "source": [
    "df.drop([ \"nb_subjets\" , \"Sleep\", \"Note_avant\",\"Home_location_Urban\",\"Education_Post Graduate\",\"Education_School\" \\\n",
    "           ,\"Education_Under Graduate\",\"Economic_status_Middle Class\",\"Economic_status_Poor\",\"Economic_status_Rich\", \\\n",
    "           \"Sport_Yes\", \"Gaming_Yes\",\"interest_Both\"],axis=1,inplace=True)"
   ]
  },
  {
   "cell_type": "code",
   "execution_count": 34,
   "metadata": {},
   "outputs": [
    {
     "name": "stdout",
     "output_type": "stream",
     "text": [
      "<class 'pandas.core.frame.DataFrame'>\n",
      "Int64Index: 1033 entries, 0 to 1032\n",
      "Data columns (total 19 columns):\n",
      " #   Column                       Non-Null Count  Dtype  \n",
      "---  ------                       --------------  -----  \n",
      " 0   Age                          1033 non-null   float64\n",
      " 1   Family_size                  1033 non-null   float64\n",
      " 2   Internet                     1033 non-null   float64\n",
      " 3   Study                        1033 non-null   float64\n",
      " 4   Media                        1033 non-null   float64\n",
      " 5   Online_mode                  1033 non-null   float64\n",
      " 6   doubts_online                1033 non-null   float64\n",
      " 7   Gender_Male                  1033 non-null   int64  \n",
      " 8   Device_used_Desktop          1033 non-null   int64  \n",
      " 9   Device_used_Laptop           1033 non-null   int64  \n",
      " 10  Device_used_Mobile           1033 non-null   int64  \n",
      " 11  Monitoring_Yes               1033 non-null   int64  \n",
      " 12  separate_room_Yes            1033 non-null   int64  \n",
      " 13  group_study_yes              1033 non-null   int64  \n",
      " 14  interest_Practical           1033 non-null   int64  \n",
      " 15  interest_Theory              1033 non-null   int64  \n",
      " 16  Satisfaction_online_Average  1033 non-null   int64  \n",
      " 17  Satisfaction_online_Bad      1033 non-null   int64  \n",
      " 18  Satisfaction_online_Good     1033 non-null   int64  \n",
      "dtypes: float64(7), int64(12)\n",
      "memory usage: 161.4 KB\n"
     ]
    }
   ],
   "source": [
    "df.info()"
   ]
  },
  {
   "cell_type": "code",
   "execution_count": 18,
   "metadata": {},
   "outputs": [
    {
     "name": "stdout",
     "output_type": "stream",
     "text": [
      "0123456789\n",
      "La précision moyenne est  74.90\n",
      "La variance de précision est 29.67\n"
     ]
    }
   ],
   "source": [
    "matrice = np1.array(reapeated_random(10,df))\n",
    "print('')\n",
    "final_accuracy(matrice)"
   ]
  },
  {
   "cell_type": "code",
   "execution_count": 19,
   "metadata": {},
   "outputs": [
    {
     "data": {
      "image/png": "[encoded data removed]",
      "text/plain": [
       "<Figure size 432x288 with 1 Axes>"
      ]
     },
     "metadata": {
      "needs_background": "light"
     },
     "output_type": "display_data"
    }
   ],
   "source": [
    "a,b= liste_parametre(matrice)\n",
    "fig = plt.figure(figsize=(6,4))\n",
    "plt.scatter(a, b , color='#222222', marker='o', s = 100)\n",
    "\n",
    "plt.yscale(\"log\") ; plt.xscale(\"log\")\n",
    "plt.xlabel(\"C\") ; plt.ylabel(\"gamma\") ;plt.title(\"Parametre Optimal\")\n",
    "plt.ylim(0.0001,0.1) ; plt.xlim(100,100000)\n",
    "\n",
    "plt.show()"
   ]
  },
  {
   "cell_type": "code",
   "execution_count": 48,
   "metadata": {},
   "outputs": [],
   "source": [
    "df.drop([\"group_study_yes\",\"separate_room_Yes\",\"Monitoring_Yes\",\"Gender_Male\", \"Family_size\", \"Media\",\"Device_used_Laptop\" \\\n",
    "           ,\"Device_used_Mobile\",\"interest_Practical\",\"interest_Theory\",\"Device_used_Desktop\"],axis=1,inplace=True)"
   ]
  },
  {
   "cell_type": "code",
   "execution_count": 50,
   "metadata": {},
   "outputs": [
    {
     "name": "stdout",
     "output_type": "stream",
     "text": [
      "<class 'pandas.core.frame.DataFrame'>\n",
      "Int64Index: 1033 entries, 0 to 1032\n",
      "Data columns (total 8 columns):\n",
      " #   Column                       Non-Null Count  Dtype  \n",
      "---  ------                       --------------  -----  \n",
      " 0   Age                          1033 non-null   float64\n",
      " 1   Internet                     1033 non-null   float64\n",
      " 2   Study                        1033 non-null   float64\n",
      " 3   Online_mode                  1033 non-null   float64\n",
      " 4   doubts_online                1033 non-null   float64\n",
      " 5   Satisfaction_online_Average  1033 non-null   int64  \n",
      " 6   Satisfaction_online_Bad      1033 non-null   int64  \n",
      " 7   Satisfaction_online_Good     1033 non-null   int64  \n",
      "dtypes: float64(5), int64(3)\n",
      "memory usage: 72.6 KB\n"
     ]
    }
   ],
   "source": [
    "df.info()"
   ]
  },
  {
   "cell_type": "code",
   "execution_count": 49,
   "metadata": {},
   "outputs": [
    {
     "name": "stdout",
     "output_type": "stream",
     "text": [
      "0123456789\n",
      "La précision moyenne est  70.18\n",
      "La variance de précision est 1.74\n"
     ]
    }
   ],
   "source": [
    "matrice = np1.array(reapeated_random(10,df))\n",
    "print('')\n",
    "final_accuracy(matrice)"
   ]
  },
  {
   "cell_type": "code",
   "execution_count": 36,
   "metadata": {},
   "outputs": [],
   "source": [
    "df.drop([\"Age\",\"Study\",\"Satisfaction_online_Average\"],axis=1,inplace=True)"
   ]
  },
  {
   "cell_type": "code",
   "execution_count": 37,
   "metadata": {},
   "outputs": [
    {
     "name": "stdout",
     "output_type": "stream",
     "text": [
      "<class 'pandas.core.frame.DataFrame'>\n",
      "Int64Index: 1033 entries, 0 to 1032\n",
      "Data columns (total 5 columns):\n",
      " #   Column                    Non-Null Count  Dtype  \n",
      "---  ------                    --------------  -----  \n",
      " 0   Internet                  1033 non-null   float64\n",
      " 1   Online_mode               1033 non-null   float64\n",
      " 2   doubts_online             1033 non-null   float64\n",
      " 3   Satisfaction_online_Bad   1033 non-null   int64  \n",
      " 4   Satisfaction_online_Good  1033 non-null   int64  \n",
      "dtypes: float64(3), int64(2)\n",
      "memory usage: 48.4 KB\n"
     ]
    }
   ],
   "source": [
    "df.info()"
   ]
  },
  {
   "cell_type": "code",
   "execution_count": 22,
   "metadata": {},
   "outputs": [
    {
     "name": "stdout",
     "output_type": "stream",
     "text": [
      "0123456789\n",
      "La précision moyenne est  70.33\n",
      "La variance de précision est 0.97\n"
     ]
    }
   ],
   "source": [
    "matrice = np1.array(reapeated_random(10,df))\n",
    "print('')\n",
    "final_accuracy(matrice)"
   ]
  },
  {
   "cell_type": "code",
   "execution_count": 23,
   "metadata": {},
   "outputs": [
    {
     "data": {
      "image/png": "[encoded data removed]",
      "text/plain": [
       "<Figure size 432x288 with 1 Axes>"
      ]
     },
     "metadata": {
      "needs_background": "light"
     },
     "output_type": "display_data"
    }
   ],
   "source": [
    "a,b= liste_parametre(matrice)\n",
    "fig = plt.figure(figsize=(6,4))\n",
    "plt.scatter(a, b , color='#222222', marker='o', s = 100)\n",
    "\n",
    "plt.yscale(\"log\") ; plt.xscale(\"log\")\n",
    "plt.xlabel(\"C\") ; plt.ylabel(\"gamma\") ;plt.title(\"Parametre Optimal\")\n",
    "plt.ylim(0.0001,0.1) ; plt.xlim(100,100000)\n",
    "\n",
    "plt.show()"
   ]
  },
  {
   "cell_type": "code",
   "execution_count": 38,
   "metadata": {},
   "outputs": [],
   "source": [
    "df.drop([\"Online_mode\",\"Satisfaction_online_Bad\",\"Satisfaction_online_Good\"],axis=1,inplace=True)"
   ]
  },
  {
   "cell_type": "code",
   "execution_count": 39,
   "metadata": {},
   "outputs": [
    {
     "name": "stdout",
     "output_type": "stream",
     "text": [
      "<class 'pandas.core.frame.DataFrame'>\n",
      "Int64Index: 1033 entries, 0 to 1032\n",
      "Data columns (total 2 columns):\n",
      " #   Column         Non-Null Count  Dtype  \n",
      "---  ------         --------------  -----  \n",
      " 0   Internet       1033 non-null   float64\n",
      " 1   doubts_online  1033 non-null   float64\n",
      "dtypes: float64(2)\n",
      "memory usage: 24.2 KB\n"
     ]
    }
   ],
   "source": [
    "df.info()"
   ]
  },
  {
   "cell_type": "code",
   "execution_count": 25,
   "metadata": {},
   "outputs": [
    {
     "name": "stdout",
     "output_type": "stream",
     "text": [
      "0123456789\n",
      "La précision moyenne est  69.02\n",
      "La variance de précision est 0.64\n"
     ]
    }
   ],
   "source": [
    "matrice = np1.array(reapeated_random(10,df))\n",
    "print('')\n",
    "final_accuracy(matrice)"
   ]
  }
 ],
 "metadata": {
  "kernelspec": {
   "display_name": "Python 3 (ipykernel)",
   "language": "python",
   "name": "python3"
  },
  "language_info": {
   "codemirror_mode": {
    "name": "ipython",
    "version": 3
   },
   "file_extension": ".py",
   "mimetype": "text/x-python",
   "name": "python",
   "nbconvert_exporter": "python",
   "pygments_lexer": "ipython3",
   "version": "3.9.7"
  }
 },
 "nbformat": 4,
 "nbformat_minor": 4
}
