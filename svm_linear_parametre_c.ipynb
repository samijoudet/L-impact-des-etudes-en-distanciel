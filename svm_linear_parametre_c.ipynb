{
 "cells": [
  {
   "cell_type": "code",
   "execution_count": 10,
   "metadata": {},
   "outputs": [],
   "source": [
    "import pandas as np\n",
    "import numpy as np1 \n",
    "from sklearn.svm import SVC\n",
    "import matplotlib.pyplot as plt\n",
    "from sklearn import svm, datasets, metrics"
   ]
  },
  {
   "cell_type": "code",
   "execution_count": 11,
   "metadata": {},
   "outputs": [],
   "source": [
    "def normalize(data, cat) :\n",
    "    data[cat]= ((data[cat]-data[cat].min())/ (data[cat].max()-data[cat].min()))"
   ]
  },
  {
   "cell_type": "code",
   "execution_count": 12,
   "metadata": {},
   "outputs": [],
   "source": [
    "df = np.read_csv('education.csv')\n",
    "df_1= np.read_csv('educnorma.csv',index_col=0)"
   ]
  },
  {
   "cell_type": "code",
   "execution_count": 13,
   "metadata": {},
   "outputs": [],
   "source": [
    "#remarque : les éléves qui arrivent à participer activement en ligne et qui arrive à se renseigner avec  "
   ]
  },
  {
   "cell_type": "code",
   "execution_count": 14,
   "metadata": {},
   "outputs": [],
   "source": [
    "y = df[\"Performance in online\"].copy()\n",
    "\n",
    "for i in range (len(y)):\n",
    "    if y[i] < 7: y[i]= 0\n",
    "    else : y[i]=1\n",
    "\n",
    "df_1.drop([\"performance_online\"],axis=1,inplace=True)"
   ]
  },
  {
   "cell_type": "code",
   "execution_count": 15,
   "metadata": {},
   "outputs": [],
   "source": [
    "def perf_measure(y_actual, y_hat):\n",
    "    TP = 0\n",
    "    FP = 0\n",
    "    TN = 0\n",
    "    FN = 0\n",
    "\n",
    "    for i in range(len(y_hat)): \n",
    "        if y_actual[i]==y_hat[i]==1:\n",
    "           TP += 1\n",
    "        if y_hat[i]==1 and y_actual[i]!=y_hat[i]:\n",
    "           FP += 1\n",
    "        if y_actual[i]==y_hat[i]==0:\n",
    "           TN += 1\n",
    "        if y_hat[i]==0 and y_actual[i]!=y_hat[i]:\n",
    "           FN += 1\n",
    "\n",
    "    return(TP, FP, TN, FN)"
   ]
  },
  {
   "cell_type": "code",
   "execution_count": 16,
   "metadata": {},
   "outputs": [],
   "source": [
    "import math\n",
    "from random import seed, shuffle\n",
    "SEED = 1122334455\n",
    "seed(SEED)\n",
    "np1.random.seed(SEED)\n",
    "\n",
    "\n",
    "def reapeated_random(n_iter,df_1) :\n",
    "    X = df_1.to_numpy(copy=True)\n",
    "    y1 = y.to_numpy(copy=True)   \n",
    "    matrise_result=[] # dim 1 -> interation \n",
    "                     # dim 2 -> 0: training ; 1:testing ; 2:validation\n",
    "                     # dim 3 -> c1,c2,c3,c4,c5\n",
    "    C_i=[0.00001,0.0001,0.001,0.01,0.1,1,10,100,1000,10000,100000]\n",
    "    C_range=np1.shape(C_i)[0]\n",
    "    \n",
    "    n_size=np1.shape(X)[0]\n",
    "    perm = list(range(0,n_size))\n",
    "    shuffle(perm)\n",
    "    X_syn1 = X[perm]\n",
    "    y_syn1 = y[perm]\n",
    "    #Generate training, testing and validation:\n",
    "    n_train=int(0.5*n_size)\n",
    "    n = np1.shape(X_syn1)[0]\n",
    "    X_syn_training=X_syn1[0:n_train,:]\n",
    "    y_syn_training=y_syn1[0:n_train]\n",
    "\n",
    "    X_syn_testing=X_syn1[n_train:(n_train+math.floor((n-n_train)/2)),:]\n",
    "    y_syn_testing=y_syn1[n_train:(n_train+math.floor((n-n_train)/2))]\n",
    "\n",
    "    X_syn_validation=X_syn1[(n_train+math.floor((n-n_train)/2)):n,:]\n",
    "    y_syn_validation=y_syn1[(n_train+math.floor((n-n_train)/2)):n]\n",
    "\n",
    "        #resolution\n",
    "    Accuracy_training=np1.empty([C_range])\n",
    "    Accuracy_testing=np1.empty([C_range])\n",
    "    Accuracy_validation=np1.empty([C_range])\n",
    "    for i in range(C_range):\n",
    "        print(i)\n",
    "    \n",
    "        svm_clf = SVC(kernel=\"linear\", C=C_i[i])\n",
    "        svm_clf.fit(X_syn_training, y_syn_training)\n",
    "  \n",
    "        y_pred_training=svm_clf.predict(X_syn_training)\n",
    "        y_pred_testing=svm_clf.predict(X_syn_testing)\n",
    "        y_pred_validation=svm_clf.predict(X_syn_validation)\n",
    "\n",
    "        Accuracy_training[i]=(metrics.accuracy_score(y_syn_training, y_pred_training)*100)\n",
    "        Accuracy_testing[i]=(metrics.accuracy_score(y_syn_testing, y_pred_testing)*100)\n",
    "        Accuracy_validation[i]=(metrics.accuracy_score(y_syn_validation, y_pred_validation)*100)   \n",
    "        \n",
    "    matrise_result += [[Accuracy_training,Accuracy_testing,Accuracy_validation]]\n",
    "    return matrise_result\n"
   ]
  },
  {
   "cell_type": "code",
   "execution_count": 17,
   "metadata": {},
   "outputs": [
    {
     "name": "stdout",
     "output_type": "stream",
     "text": [
      "0\n",
      "1\n",
      "2\n",
      "3\n",
      "4\n",
      "5\n",
      "6\n",
      "7\n",
      "8\n",
      "9\n",
      "10\n"
     ]
    }
   ],
   "source": [
    "matrice = np1.array(reapeated_random(10,df_1))"
   ]
  },
  {
   "cell_type": "code",
   "execution_count": 18,
   "metadata": {},
   "outputs": [
    {
     "data": {
      "image/png": "[encoded data removed]",
      "text/plain": [
       "<Figure size 432x288 with 1 Axes>"
      ]
     },
     "metadata": {
      "needs_background": "light"
     },
     "output_type": "display_data"
    }
   ],
   "source": [
    "liste_C = [0.00001,0.0001,0.001,0.01,0.1,1,10,100,1000,10000,100000]\n",
    "liste_précision = matrice[0][2]\n",
    "\n",
    "fig = plt.figure(figsize=(6,4))\n",
    "plt.scatter(\n",
    "    [0.00001,0.0001,0.001,0.01,0.1,1,10,100,1000,10000,100000], matrice[0][2], color='#222222', marker='o', s = 100\n",
    ")\n",
    "\n",
    "plt.xscale(\"log\")\n",
    "plt.xlabel(\"C\") ; plt.ylabel(\"pourcentage\") ;plt.title(\"Parametre Optimal\")\n",
    "plt.ylim(50,70) \n",
    "plt.show()"
   ]
  },
  {
   "cell_type": "code",
   "execution_count": null,
   "metadata": {},
   "outputs": [],
   "source": []
  }
 ],
 "metadata": {
  "kernelspec": {
   "display_name": "Python 3 (ipykernel)",
   "language": "python",
   "name": "python3"
  },
  "language_info": {
   "codemirror_mode": {
    "name": "ipython",
    "version": 3
   },
   "file_extension": ".py",
   "mimetype": "text/x-python",
   "name": "python",
   "nbconvert_exporter": "python",
   "pygments_lexer": "ipython3",
   "version": "3.9.7"
  }
 },
 "nbformat": 4,
 "nbformat_minor": 4
}
