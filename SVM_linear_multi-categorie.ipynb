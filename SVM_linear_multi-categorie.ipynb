{
 "cells": [
  {
   "cell_type": "code",
   "execution_count": 13,
   "metadata": {},
   "outputs": [],
   "source": [
    "import pandas as np\n",
    "import numpy as np1 \n",
    "from sklearn.svm import SVC\n",
    "import matplotlib.pyplot as plt\n",
    "from sklearn import svm, datasets, metrics"
   ]
  },
  {
   "cell_type": "code",
   "execution_count": 14,
   "metadata": {},
   "outputs": [],
   "source": [
    "def normalize(data, cat) :\n",
    "    data[cat]= ((data[cat]-data[cat].min())/ (data[cat].max()-data[cat].min()))"
   ]
  },
  {
   "cell_type": "code",
   "execution_count": 15,
   "metadata": {},
   "outputs": [],
   "source": [
    "df= np.read_csv('education.csv')\n",
    "df_1= np.read_csv('educnorma.csv',index_col=0)"
   ]
  },
  {
   "cell_type": "code",
   "execution_count": 16,
   "metadata": {},
   "outputs": [],
   "source": [
    "y = df[\"Performance in online\"].copy()\n",
    "df_1.drop([\"performance_online\"],axis=1,inplace=True)"
   ]
  },
  {
   "cell_type": "code",
   "execution_count": 17,
   "metadata": {},
   "outputs": [
    {
     "data": {
      "text/plain": [
       "0        6\n",
       "1        3\n",
       "2        6\n",
       "3        4\n",
       "4        6\n",
       "        ..\n",
       "1028     8\n",
       "1029    10\n",
       "1030     6\n",
       "1031     6\n",
       "1032    10\n",
       "Name: Performance in online, Length: 1033, dtype: int64"
      ]
     },
     "execution_count": 17,
     "metadata": {},
     "output_type": "execute_result"
    }
   ],
   "source": [
    "y"
   ]
  },
  {
   "cell_type": "code",
   "execution_count": 18,
   "metadata": {},
   "outputs": [
    {
     "name": "stdout",
     "output_type": "stream",
     "text": [
      "<class 'pandas.core.frame.DataFrame'>\n",
      "Int64Index: 1033 entries, 0 to 1032\n",
      "Data columns (total 32 columns):\n",
      " #   Column                        Non-Null Count  Dtype  \n",
      "---  ------                        --------------  -----  \n",
      " 0   Age                           1033 non-null   float64\n",
      " 1   nb_subjets                    1033 non-null   float64\n",
      " 2   Family_size                   1033 non-null   float64\n",
      " 3   Internet                      1033 non-null   float64\n",
      " 4   Study                         1033 non-null   float64\n",
      " 5   Sleep                         1033 non-null   float64\n",
      " 6   Media                         1033 non-null   float64\n",
      " 7   Note_avant                    1033 non-null   float64\n",
      " 8   Online_mode                   1033 non-null   float64\n",
      " 9   doubts_online                 1033 non-null   float64\n",
      " 10  Gender_Male                   1033 non-null   int64  \n",
      " 11  Home_location_Urban           1033 non-null   int64  \n",
      " 12  Education_Post Graduate       1033 non-null   int64  \n",
      " 13  Education_School              1033 non-null   int64  \n",
      " 14  Education_Under Graduate      1033 non-null   int64  \n",
      " 15  Device_used_Desktop           1033 non-null   int64  \n",
      " 16  Device_used_Laptop            1033 non-null   int64  \n",
      " 17  Device_used_Mobile            1033 non-null   int64  \n",
      " 18  Economic_status_Middle Class  1033 non-null   int64  \n",
      " 19  Economic_status_Poor          1033 non-null   int64  \n",
      " 20  Economic_status_Rich          1033 non-null   int64  \n",
      " 21  Sport_Yes                     1033 non-null   int64  \n",
      " 22  Monitoring_Yes                1033 non-null   int64  \n",
      " 23  Gaming_Yes                    1033 non-null   int64  \n",
      " 24  separate_room_Yes             1033 non-null   int64  \n",
      " 25  group_study_yes               1033 non-null   int64  \n",
      " 26  interest_Both                 1033 non-null   int64  \n",
      " 27  interest_Practical            1033 non-null   int64  \n",
      " 28  interest_Theory               1033 non-null   int64  \n",
      " 29  Satisfaction_online_Average   1033 non-null   int64  \n",
      " 30  Satisfaction_online_Bad       1033 non-null   int64  \n",
      " 31  Satisfaction_online_Good      1033 non-null   int64  \n",
      "dtypes: float64(10), int64(22)\n",
      "memory usage: 266.3 KB\n"
     ]
    }
   ],
   "source": [
    "df_1.info()"
   ]
  },
  {
   "cell_type": "code",
   "execution_count": 19,
   "metadata": {},
   "outputs": [],
   "source": [
    "def perf_measure(y_actual, y_hat):\n",
    "    TP = 0\n",
    "    FP = 0\n",
    "    TN = 0\n",
    "    FN = 0\n",
    "\n",
    "    for i in range(len(y_hat)): \n",
    "        if y_actual[i]==y_hat[i]==1:\n",
    "           TP += 1\n",
    "        if y_hat[i]==1 and y_actual[i]!=y_hat[i]:\n",
    "           FP += 1\n",
    "        if y_actual[i]==y_hat[i]==0:\n",
    "           TN += 1\n",
    "        if y_hat[i]==0 and y_actual[i]!=y_hat[i]:\n",
    "           FN += 1\n",
    "\n",
    "    return(TP, FP, TN, FN)"
   ]
  },
  {
   "cell_type": "code",
   "execution_count": 29,
   "metadata": {},
   "outputs": [],
   "source": [
    "import math\n",
    "from random import seed, shuffle\n",
    "SEED = 1122334455\n",
    "seed(SEED)\n",
    "np1.random.seed(SEED)\n",
    "\n",
    "\n",
    "def reapeated_random(n_iter,df_1) :\n",
    "    X = df_1.to_numpy(copy=True)\n",
    "    y1 = y.to_numpy(copy=True)   \n",
    "    matrise_result=[] # dim 1 -> interation \n",
    "                     # dim 2 -> 0: training ; 1:testing ; 2:validation\n",
    "                     # dim 3 -> c1,c2,c3,c4,c5\n",
    "    C_i=[0.001,1,100,1000,1]\n",
    "    C_range=np1.shape(C_i)[0]\n",
    "    for i in range (n_iter) :\n",
    "        print(i,end='')\n",
    "        n_size=np1.shape(X)[0]\n",
    "        perm = list(range(0,n_size))\n",
    "        shuffle(perm)\n",
    "        X_syn1 = X[perm]\n",
    "        y_syn1 = y[perm]\n",
    "        #Generate training, testing and validation:\n",
    "        n_train=int(0.5*n_size)\n",
    "        n = np1.shape(X_syn1)[0]\n",
    "        X_syn_training=X_syn1[0:n_train,:]\n",
    "        y_syn_training=y_syn1[0:n_train]\n",
    "\n",
    "        X_syn_testing=X_syn1[n_train:(n_train+math.floor((n-n_train)/2)),:]\n",
    "        y_syn_testing=y_syn1[n_train:(n_train+math.floor((n-n_train)/2))]\n",
    "\n",
    "        X_syn_validation=X_syn1[(n_train+math.floor((n-n_train)/2)):n,:]\n",
    "        y_syn_validation=y_syn1[(n_train+math.floor((n-n_train)/2)):n]\n",
    "\n",
    "        \n",
    "        #resolution\n",
    "        Accuracy_training=np1.empty([C_range])\n",
    "        Accuracy_testing=np1.empty([C_range])\n",
    "        Accuracy_validation=np1.empty([C_range])\n",
    "        \n",
    "        y_syn2_testing = y_syn_testing.copy()\n",
    "        for i in y_syn2_testing.keys() :\n",
    "            if y_syn2_testing[i] < 7: y_syn2_testing[i]= 0\n",
    "            else : y_syn2_testing[i]=1\n",
    "                \n",
    "        y_syn2_validation = y_syn_validation.copy()\n",
    "        for i in y_syn2_validation.keys() :\n",
    "            if y_syn2_validation[i] < 7: y_syn2_validation[i]= 0\n",
    "            else : y_syn2_validation[i]=1\n",
    "                \n",
    "        for i in range(C_range):\n",
    "    \n",
    "            svm_clf = SVC(kernel=\"linear\", C=C_i[i])\n",
    "            svm_clf.fit(X_syn_training, y_syn_training)\n",
    "  \n",
    "            y_pred_training=svm_clf.predict(X_syn_training)\n",
    "            y_pred_testing=svm_clf.predict(X_syn_testing)\n",
    "            y_pred_validation=svm_clf.predict(X_syn_validation)\n",
    "            \n",
    "            for j in range (len(y_pred_validation)):\n",
    "                if y_pred_validation[j] < 7: y_pred_validation[j]= 0\n",
    "                else : y_pred_validation[j]=1\n",
    "            for j in range (len(y_pred_testing)):\n",
    "                if y_pred_testing[j] < 7: y_pred_testing[j]= 0\n",
    "                else : y_pred_testing[j]=1       \n",
    "            Accuracy_training[i]=(metrics.accuracy_score(y_syn_training, y_pred_training)*100)\n",
    "            Accuracy_testing[i]=(metrics.accuracy_score(y_syn2_testing, y_pred_testing)*100)\n",
    "            Accuracy_validation[i]=(metrics.accuracy_score(y_syn2_validation, y_pred_validation)*100)   \n",
    "        \n",
    "        matrise_result += [[Accuracy_training,Accuracy_testing,Accuracy_validation]]\n",
    "    return matrise_result\n"
   ]
  },
  {
   "cell_type": "code",
   "execution_count": 30,
   "metadata": {},
   "outputs": [],
   "source": [
    "def final_accuracy(matrice):\n",
    "    Final_accuracy=[]\n",
    "    for i in range (10):\n",
    "        max_t=max(matrice[i][1])\n",
    "        i_loc=np1.where(matrice[i][1]>=max_t)\n",
    "        if len(i_loc[0])== 1 : \n",
    "            i_loc=i_loc[0][0]\n",
    "        else : \n",
    "            acc = []\n",
    "            for x in i_loc[0] : \n",
    "                acc += [matrice[i][2][x]]\n",
    "            #print(acc)\n",
    "            max_t = max(acc)\n",
    "            i_acc = np1.where(acc>=max_t)\n",
    "            i_loc= i_loc[0][i_acc[0][0]]\n",
    "        \n",
    "        Final_accuracy += [matrice[i][2][i_loc]]\n",
    "    #print(Final_accuracy)\n",
    "    print(\"La précision moyenne est  %.2f\" %np1.mean(Final_accuracy))\n",
    "    print(\"La variance de précision est %.2f\" %np1.var(Final_accuracy))"
   ]
  },
  {
   "cell_type": "code",
   "execution_count": 31,
   "metadata": {},
   "outputs": [
    {
     "name": "stdout",
     "output_type": "stream",
     "text": [
      "0123456789\n",
      "La précision moyenne est  48.03\n",
      "La variance de précision est 15.69\n"
     ]
    }
   ],
   "source": [
    "df_2 = df_1[[\"Study\",\"Sleep\",\"Media\",\"Note_avant\"]].copy()\n",
    "matrice = np1.array(reapeated_random(10,df_2))\n",
    "print('')\n",
    "final_accuracy(matrice)"
   ]
  },
  {
   "cell_type": "code",
   "execution_count": 32,
   "metadata": {},
   "outputs": [
    {
     "name": "stdout",
     "output_type": "stream",
     "text": [
      "0123456789\n",
      "La précision moyenne est  65.56\n",
      "La variance de précision est 1.66\n"
     ]
    }
   ],
   "source": [
    "matrice = np1.array(reapeated_random(10,df_1))\n",
    "print('')\n",
    "final_accuracy(matrice)"
   ]
  },
  {
   "cell_type": "code",
   "execution_count": 33,
   "metadata": {},
   "outputs": [],
   "source": [
    "df_1.drop([ \"nb_subjets\" , \"Sleep\", \"Note_avant\",\"Home_location_Urban\",\"Education_Post Graduate\",\"Education_School\" \\\n",
    "           ,\"Education_Under Graduate\",\"Economic_status_Middle Class\",\"Economic_status_Poor\",\"Economic_status_Rich\", \\\n",
    "           \"Sport_Yes\", \"Gaming_Yes\",\"interest_Both\"],axis=1,inplace=True)"
   ]
  },
  {
   "cell_type": "code",
   "execution_count": 34,
   "metadata": {},
   "outputs": [
    {
     "name": "stdout",
     "output_type": "stream",
     "text": [
      "0123456789\n",
      "La précision moyenne est  67.07\n",
      "La variance de précision est 6.59\n"
     ]
    }
   ],
   "source": [
    "matrice = np1.array(reapeated_random(10,df_1))\n",
    "print('')\n",
    "final_accuracy(matrice)"
   ]
  },
  {
   "cell_type": "code",
   "execution_count": 35,
   "metadata": {},
   "outputs": [],
   "source": [
    "df_1.drop([\"group_study_yes\",\"separate_room_Yes\",\"Monitoring_Yes\",\"Gender_Male\", \"Family_size\", \"Media\",\"Device_used_Laptop\" \\\n",
    "           ,\"Device_used_Mobile\",\"interest_Practical\",\"interest_Theory\",\"Device_used_Desktop\"],axis=1,inplace=True)"
   ]
  },
  {
   "cell_type": "code",
   "execution_count": 36,
   "metadata": {},
   "outputs": [
    {
     "name": "stdout",
     "output_type": "stream",
     "text": [
      "0123456789\n",
      "La précision moyenne est  66.91\n",
      "La variance de précision est 10.94\n"
     ]
    }
   ],
   "source": [
    "matrice = np1.array(reapeated_random(10,df_1))\n",
    "print('')\n",
    "final_accuracy(matrice)"
   ]
  },
  {
   "cell_type": "code",
   "execution_count": 37,
   "metadata": {},
   "outputs": [
    {
     "name": "stdout",
     "output_type": "stream",
     "text": [
      "<class 'pandas.core.frame.DataFrame'>\n",
      "Int64Index: 1033 entries, 0 to 1032\n",
      "Data columns (total 8 columns):\n",
      " #   Column                       Non-Null Count  Dtype  \n",
      "---  ------                       --------------  -----  \n",
      " 0   Age                          1033 non-null   float64\n",
      " 1   Internet                     1033 non-null   float64\n",
      " 2   Study                        1033 non-null   float64\n",
      " 3   Online_mode                  1033 non-null   float64\n",
      " 4   doubts_online                1033 non-null   float64\n",
      " 5   Satisfaction_online_Average  1033 non-null   int64  \n",
      " 6   Satisfaction_online_Bad      1033 non-null   int64  \n",
      " 7   Satisfaction_online_Good     1033 non-null   int64  \n",
      "dtypes: float64(5), int64(3)\n",
      "memory usage: 72.6 KB\n"
     ]
    }
   ],
   "source": [
    "df_1.info()"
   ]
  },
  {
   "cell_type": "code",
   "execution_count": 38,
   "metadata": {},
   "outputs": [],
   "source": [
    "df_1.drop([\"Age\",\"Study\",\"Satisfaction_online_Average\"],axis=1,inplace=True)"
   ]
  },
  {
   "cell_type": "code",
   "execution_count": 39,
   "metadata": {},
   "outputs": [
    {
     "name": "stdout",
     "output_type": "stream",
     "text": [
      "<class 'pandas.core.frame.DataFrame'>\n",
      "Int64Index: 1033 entries, 0 to 1032\n",
      "Data columns (total 5 columns):\n",
      " #   Column                    Non-Null Count  Dtype  \n",
      "---  ------                    --------------  -----  \n",
      " 0   Internet                  1033 non-null   float64\n",
      " 1   Online_mode               1033 non-null   float64\n",
      " 2   doubts_online             1033 non-null   float64\n",
      " 3   Satisfaction_online_Bad   1033 non-null   int64  \n",
      " 4   Satisfaction_online_Good  1033 non-null   int64  \n",
      "dtypes: float64(3), int64(2)\n",
      "memory usage: 48.4 KB\n"
     ]
    }
   ],
   "source": [
    "df_1.info()"
   ]
  },
  {
   "cell_type": "code",
   "execution_count": 40,
   "metadata": {},
   "outputs": [
    {
     "name": "stdout",
     "output_type": "stream",
     "text": [
      "0123456789\n",
      "La précision moyenne est  68.53\n",
      "La variance de précision est 15.60\n"
     ]
    }
   ],
   "source": [
    "matrice = np1.array(reapeated_random(10,df_1))\n",
    "print('')\n",
    "final_accuracy(matrice)"
   ]
  },
  {
   "cell_type": "code",
   "execution_count": 41,
   "metadata": {},
   "outputs": [],
   "source": [
    "df_1.drop([\"Online_mode\",\"Satisfaction_online_Bad\",\"Satisfaction_online_Good\"],axis=1,inplace=True)"
   ]
  },
  {
   "cell_type": "code",
   "execution_count": 42,
   "metadata": {},
   "outputs": [
    {
     "name": "stdout",
     "output_type": "stream",
     "text": [
      "0123456789\n",
      "La précision moyenne est  67.76\n",
      "La variance de précision est 13.99\n"
     ]
    }
   ],
   "source": [
    "matrice = np1.array(reapeated_random(10,df_1))\n",
    "print('')\n",
    "final_accuracy(matrice)"
   ]
  },
  {
   "cell_type": "code",
   "execution_count": null,
   "metadata": {},
   "outputs": [],
   "source": []
  }
 ],
 "metadata": {
  "kernelspec": {
   "display_name": "Python 3 (ipykernel)",
   "language": "python",
   "name": "python3"
  },
  "language_info": {
   "codemirror_mode": {
    "name": "ipython",
    "version": 3
   },
   "file_extension": ".py",
   "mimetype": "text/x-python",
   "name": "python",
   "nbconvert_exporter": "python",
   "pygments_lexer": "ipython3",
   "version": "3.9.7"
  }
 },
 "nbformat": 4,
 "nbformat_minor": 4
}
